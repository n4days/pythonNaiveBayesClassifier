{
 "cells": [
  {
   "cell_type": "code",
   "execution_count": 6,
   "metadata": {},
   "outputs": [
    {
     "data": {
      "text/plain": [
       "'/Users/macbookairm2/python/naive bayes classifier/probabilitas_kata.docx'"
      ]
     },
     "execution_count": 6,
     "metadata": {},
     "output_type": "execute_result"
    }
   ],
   "source": [
    "from docx import Document\n",
    "\n",
    "# Data kata-kata dalam list\n",
    "data_kata = [\n",
    "    ['presiden', 'anti', 'korupsi','cuma', 'bapak', 'jokowi']\n",
    "]\n",
    "\n",
    "# Menghitung total kata\n",
    "total_kata = sum(len(kalimat) for kalimat in data_kata)\n",
    "\n",
    "# Menghitung frekuensi semua kata\n",
    "from collections import Counter\n",
    "\n",
    "word_counts = Counter(word for kalimat in data_kata for word in kalimat)\n",
    "\n",
    "# Membuat dokumen Word\n",
    "doc = Document()\n",
    "doc.add_heading('Probabilitas Kemunculan Kata', level=1)\n",
    "\n",
    "# Menambahkan data ke dalam dokumen\n",
    "doc.add_paragraph(f\"Total Kata: {total_kata}\\n\")\n",
    "\n",
    "for kata, jumlah in word_counts.items():\n",
    "    probabilitas = jumlah / total_kata if total_kata > 0 else 0\n",
    "    doc.add_paragraph(f\"P(words | {kata}) = {jumlah}/{total_kata} = {probabilitas:.6f}\".replace('.', ','))\n",
    "\n",
    "# Simpan ke file\n",
    "file_path = \"/Users/macbookairm2/python/naive bayes classifier/probabilitas_kata.docx\"\n",
    "doc.save(file_path)\n",
    "\n",
    "file_path"
   ]
  }
 ],
 "metadata": {
  "kernelspec": {
   "display_name": "Python 3",
   "language": "python",
   "name": "python3"
  },
  "language_info": {
   "codemirror_mode": {
    "name": "ipython",
    "version": 3
   },
   "file_extension": ".py",
   "mimetype": "text/x-python",
   "name": "python",
   "nbconvert_exporter": "python",
   "pygments_lexer": "ipython3",
   "version": "3.12.7"
  }
 },
 "nbformat": 4,
 "nbformat_minor": 2
}
